{
 "cells": [
  {
   "cell_type": "markdown",
   "id": "54cbdb09",
   "metadata": {},
   "source": [
    "# Song Recommender"
   ]
  },
  {
   "cell_type": "code",
   "execution_count": 84,
   "id": "0f1c965a",
   "metadata": {},
   "outputs": [],
   "source": [
    "#Import required libraries\n",
    "import spotipy\n",
    "import pandas as pd\n",
    "import json\n",
    "from spotipy.oauth2 import SpotifyClientCredentials\n",
    "from config import *\n",
    "from sklearn.cluster import KMeans\n",
    "from sklearn.metrics import silhouette_score\n",
    "from sklearn.preprocessing import StandardScaler\n",
    "import pickle\n",
    "import random"
   ]
  },
  {
   "cell_type": "code",
   "execution_count": 85,
   "id": "70607af7",
   "metadata": {},
   "outputs": [],
   "source": [
    "sp = spotipy.Spotify(auth_manager=SpotifyClientCredentials(client_id= Client_ID,\n",
    "                                                           client_secret= Client_Secret))"
   ]
  },
  {
   "cell_type": "code",
   "execution_count": 86,
   "id": "1600e537",
   "metadata": {},
   "outputs": [],
   "source": [
    "#Read csv into notebook\n",
    "song_clusters_df = pd.read_csv(\"../Data/songs_with_clusters.csv\")"
   ]
  },
  {
   "cell_type": "code",
   "execution_count": 87,
   "id": "89c390b8",
   "metadata": {},
   "outputs": [
    {
     "data": {
      "text/html": [
       "<div>\n",
       "<style scoped>\n",
       "    .dataframe tbody tr th:only-of-type {\n",
       "        vertical-align: middle;\n",
       "    }\n",
       "\n",
       "    .dataframe tbody tr th {\n",
       "        vertical-align: top;\n",
       "    }\n",
       "\n",
       "    .dataframe thead th {\n",
       "        text-align: right;\n",
       "    }\n",
       "</style>\n",
       "<table border=\"1\" class=\"dataframe\">\n",
       "  <thead>\n",
       "    <tr style=\"text-align: right;\">\n",
       "      <th></th>\n",
       "      <th>danceability</th>\n",
       "      <th>energy</th>\n",
       "      <th>key</th>\n",
       "      <th>loudness</th>\n",
       "      <th>mode</th>\n",
       "      <th>speechiness</th>\n",
       "      <th>acousticness</th>\n",
       "      <th>instrumentalness</th>\n",
       "      <th>liveness</th>\n",
       "      <th>valence</th>\n",
       "      <th>...</th>\n",
       "      <th>id</th>\n",
       "      <th>uri</th>\n",
       "      <th>track_href</th>\n",
       "      <th>analysis_url</th>\n",
       "      <th>duration_ms</th>\n",
       "      <th>time_signature</th>\n",
       "      <th>title</th>\n",
       "      <th>artist</th>\n",
       "      <th>hot_100</th>\n",
       "      <th>cluster</th>\n",
       "    </tr>\n",
       "  </thead>\n",
       "  <tbody>\n",
       "    <tr>\n",
       "      <th>0</th>\n",
       "      <td>0.707</td>\n",
       "      <td>0.681</td>\n",
       "      <td>0</td>\n",
       "      <td>-4.325</td>\n",
       "      <td>1</td>\n",
       "      <td>0.0668</td>\n",
       "      <td>0.0632</td>\n",
       "      <td>0.000005</td>\n",
       "      <td>0.0322</td>\n",
       "      <td>0.646</td>\n",
       "      <td>...</td>\n",
       "      <td>0yLdNVWF3Srea0uzk55zFn</td>\n",
       "      <td>spotify:track:0yLdNVWF3Srea0uzk55zFn</td>\n",
       "      <td>https://api.spotify.com/v1/tracks/0yLdNVWF3Sre...</td>\n",
       "      <td>https://api.spotify.com/v1/audio-analysis/0yLd...</td>\n",
       "      <td>200455</td>\n",
       "      <td>4</td>\n",
       "      <td>flowers</td>\n",
       "      <td>miley cyrus</td>\n",
       "      <td>1</td>\n",
       "      <td>2</td>\n",
       "    </tr>\n",
       "    <tr>\n",
       "      <th>1</th>\n",
       "      <td>0.347</td>\n",
       "      <td>0.378</td>\n",
       "      <td>8</td>\n",
       "      <td>-9.960</td>\n",
       "      <td>1</td>\n",
       "      <td>0.0354</td>\n",
       "      <td>0.8570</td>\n",
       "      <td>0.000000</td>\n",
       "      <td>0.1180</td>\n",
       "      <td>0.610</td>\n",
       "      <td>...</td>\n",
       "      <td>5ReIs3aH4wfBjp93QOtWAl</td>\n",
       "      <td>spotify:track:5ReIs3aH4wfBjp93QOtWAl</td>\n",
       "      <td>https://api.spotify.com/v1/tracks/5ReIs3aH4wfB...</td>\n",
       "      <td>https://api.spotify.com/v1/audio-analysis/5ReI...</td>\n",
       "      <td>168609</td>\n",
       "      <td>4</td>\n",
       "      <td>kill bill</td>\n",
       "      <td>sza</td>\n",
       "      <td>1</td>\n",
       "      <td>1</td>\n",
       "    </tr>\n",
       "    <tr>\n",
       "      <th>2</th>\n",
       "      <td>0.517</td>\n",
       "      <td>0.675</td>\n",
       "      <td>6</td>\n",
       "      <td>-5.382</td>\n",
       "      <td>1</td>\n",
       "      <td>0.0357</td>\n",
       "      <td>0.4590</td>\n",
       "      <td>0.000000</td>\n",
       "      <td>0.1510</td>\n",
       "      <td>0.518</td>\n",
       "      <td>...</td>\n",
       "      <td>59uQI0PADDKeE6UZDTJEe8</td>\n",
       "      <td>spotify:track:59uQI0PADDKeE6UZDTJEe8</td>\n",
       "      <td>https://api.spotify.com/v1/tracks/59uQI0PADDKe...</td>\n",
       "      <td>https://api.spotify.com/v1/audio-analysis/59uQ...</td>\n",
       "      <td>163855</td>\n",
       "      <td>4</td>\n",
       "      <td>last night</td>\n",
       "      <td>morgan wallen</td>\n",
       "      <td>1</td>\n",
       "      <td>0</td>\n",
       "    </tr>\n",
       "    <tr>\n",
       "      <th>3</th>\n",
       "      <td>0.714</td>\n",
       "      <td>0.472</td>\n",
       "      <td>2</td>\n",
       "      <td>-7.375</td>\n",
       "      <td>1</td>\n",
       "      <td>0.0864</td>\n",
       "      <td>0.0130</td>\n",
       "      <td>0.000005</td>\n",
       "      <td>0.2660</td>\n",
       "      <td>0.238</td>\n",
       "      <td>...</td>\n",
       "      <td>3nqQXoyQOWXiESFLlDF1hG</td>\n",
       "      <td>spotify:track:3nqQXoyQOWXiESFLlDF1hG</td>\n",
       "      <td>https://api.spotify.com/v1/tracks/3nqQXoyQOWXi...</td>\n",
       "      <td>https://api.spotify.com/v1/audio-analysis/3nqQ...</td>\n",
       "      <td>156943</td>\n",
       "      <td>4</td>\n",
       "      <td>unholy</td>\n",
       "      <td>sam smith &amp; kim petras</td>\n",
       "      <td>1</td>\n",
       "      <td>7</td>\n",
       "    </tr>\n",
       "    <tr>\n",
       "      <th>4</th>\n",
       "      <td>0.728</td>\n",
       "      <td>0.293</td>\n",
       "      <td>1</td>\n",
       "      <td>-13.657</td>\n",
       "      <td>0</td>\n",
       "      <td>0.0562</td>\n",
       "      <td>0.4790</td>\n",
       "      <td>0.904000</td>\n",
       "      <td>0.1180</td>\n",
       "      <td>0.152</td>\n",
       "      <td>...</td>\n",
       "      <td>4CpujwKsq4DxOIMiKr12m8</td>\n",
       "      <td>spotify:track:4CpujwKsq4DxOIMiKr12m8</td>\n",
       "      <td>https://api.spotify.com/v1/tracks/4CpujwKsq4Dx...</td>\n",
       "      <td>https://api.spotify.com/v1/audio-analysis/4Cpu...</td>\n",
       "      <td>217026</td>\n",
       "      <td>4</td>\n",
       "      <td>creepin'</td>\n",
       "      <td>metro boomin, the weeknd &amp; 21 savage</td>\n",
       "      <td>1</td>\n",
       "      <td>3</td>\n",
       "    </tr>\n",
       "  </tbody>\n",
       "</table>\n",
       "<p>5 rows × 22 columns</p>\n",
       "</div>"
      ],
      "text/plain": [
       "   danceability  energy  key  loudness  mode  speechiness  acousticness  \\\n",
       "0         0.707   0.681    0    -4.325     1       0.0668        0.0632   \n",
       "1         0.347   0.378    8    -9.960     1       0.0354        0.8570   \n",
       "2         0.517   0.675    6    -5.382     1       0.0357        0.4590   \n",
       "3         0.714   0.472    2    -7.375     1       0.0864        0.0130   \n",
       "4         0.728   0.293    1   -13.657     0       0.0562        0.4790   \n",
       "\n",
       "   instrumentalness  liveness  valence  ...                      id  \\\n",
       "0          0.000005    0.0322    0.646  ...  0yLdNVWF3Srea0uzk55zFn   \n",
       "1          0.000000    0.1180    0.610  ...  5ReIs3aH4wfBjp93QOtWAl   \n",
       "2          0.000000    0.1510    0.518  ...  59uQI0PADDKeE6UZDTJEe8   \n",
       "3          0.000005    0.2660    0.238  ...  3nqQXoyQOWXiESFLlDF1hG   \n",
       "4          0.904000    0.1180    0.152  ...  4CpujwKsq4DxOIMiKr12m8   \n",
       "\n",
       "                                    uri  \\\n",
       "0  spotify:track:0yLdNVWF3Srea0uzk55zFn   \n",
       "1  spotify:track:5ReIs3aH4wfBjp93QOtWAl   \n",
       "2  spotify:track:59uQI0PADDKeE6UZDTJEe8   \n",
       "3  spotify:track:3nqQXoyQOWXiESFLlDF1hG   \n",
       "4  spotify:track:4CpujwKsq4DxOIMiKr12m8   \n",
       "\n",
       "                                          track_href  \\\n",
       "0  https://api.spotify.com/v1/tracks/0yLdNVWF3Sre...   \n",
       "1  https://api.spotify.com/v1/tracks/5ReIs3aH4wfB...   \n",
       "2  https://api.spotify.com/v1/tracks/59uQI0PADDKe...   \n",
       "3  https://api.spotify.com/v1/tracks/3nqQXoyQOWXi...   \n",
       "4  https://api.spotify.com/v1/tracks/4CpujwKsq4Dx...   \n",
       "\n",
       "                                        analysis_url duration_ms  \\\n",
       "0  https://api.spotify.com/v1/audio-analysis/0yLd...      200455   \n",
       "1  https://api.spotify.com/v1/audio-analysis/5ReI...      168609   \n",
       "2  https://api.spotify.com/v1/audio-analysis/59uQ...      163855   \n",
       "3  https://api.spotify.com/v1/audio-analysis/3nqQ...      156943   \n",
       "4  https://api.spotify.com/v1/audio-analysis/4Cpu...      217026   \n",
       "\n",
       "  time_signature       title                                artist hot_100  \\\n",
       "0              4     flowers                           miley cyrus       1   \n",
       "1              4   kill bill                                   sza       1   \n",
       "2              4  last night                         morgan wallen       1   \n",
       "3              4      unholy                sam smith & kim petras       1   \n",
       "4              4    creepin'  metro boomin, the weeknd & 21 savage       1   \n",
       "\n",
       "  cluster  \n",
       "0       2  \n",
       "1       1  \n",
       "2       0  \n",
       "3       7  \n",
       "4       3  \n",
       "\n",
       "[5 rows x 22 columns]"
      ]
     },
     "execution_count": 87,
     "metadata": {},
     "output_type": "execute_result"
    }
   ],
   "source": [
    "#Check df\n",
    "song_clusters_df.head()"
   ]
  },
  {
   "cell_type": "code",
   "execution_count": 88,
   "id": "3e9f7dce",
   "metadata": {},
   "outputs": [
    {
     "name": "stdout",
     "output_type": "stream",
     "text": [
      "<class 'pandas.core.frame.DataFrame'>\n",
      "RangeIndex: 2489 entries, 0 to 2488\n",
      "Data columns (total 22 columns):\n",
      " #   Column            Non-Null Count  Dtype  \n",
      "---  ------            --------------  -----  \n",
      " 0   danceability      2489 non-null   float64\n",
      " 1   energy            2489 non-null   float64\n",
      " 2   key               2489 non-null   int64  \n",
      " 3   loudness          2489 non-null   float64\n",
      " 4   mode              2489 non-null   int64  \n",
      " 5   speechiness       2489 non-null   float64\n",
      " 6   acousticness      2489 non-null   float64\n",
      " 7   instrumentalness  2489 non-null   float64\n",
      " 8   liveness          2489 non-null   float64\n",
      " 9   valence           2489 non-null   float64\n",
      " 10  tempo             2489 non-null   float64\n",
      " 11  type              2489 non-null   object \n",
      " 12  id                2489 non-null   object \n",
      " 13  uri               2489 non-null   object \n",
      " 14  track_href        2489 non-null   object \n",
      " 15  analysis_url      2489 non-null   object \n",
      " 16  duration_ms       2489 non-null   int64  \n",
      " 17  time_signature    2489 non-null   int64  \n",
      " 18  title             2489 non-null   object \n",
      " 19  artist            2489 non-null   object \n",
      " 20  hot_100           2489 non-null   int64  \n",
      " 21  cluster           2489 non-null   int64  \n",
      "dtypes: float64(9), int64(6), object(7)\n",
      "memory usage: 427.9+ KB\n"
     ]
    }
   ],
   "source": [
    "song_clusters_df.info()"
   ]
  },
  {
   "cell_type": "code",
   "execution_count": 89,
   "id": "db6c278d",
   "metadata": {},
   "outputs": [],
   "source": [
    "#Drop duplicates from previously merged dataframe\n",
    "song_clusters_df = song_clusters_df.drop_duplicates()"
   ]
  },
  {
   "cell_type": "code",
   "execution_count": 90,
   "id": "110e9dcf",
   "metadata": {},
   "outputs": [],
   "source": [
    "#Function to return song id\n",
    "def search_song(title, artist, limit=1):\n",
    "    try:\n",
    "        result = sp.search(q=title + artist, limit=limit)\n",
    "        return result[\"tracks\"][\"items\"][0][\"id\"]\n",
    "    except:\n",
    "        return None"
   ]
  },
  {
   "cell_type": "code",
   "execution_count": 91,
   "id": "ce19e151",
   "metadata": {
    "scrolled": true
   },
   "outputs": [],
   "source": [
    "#Function that receives input of song title and artist from user\n",
    "def read_song_and_artist():\n",
    "    title_s = input(\"Please Enter the song title: \").lower()\n",
    "    artist_s = input(\"Please Enter the artist title: \").lower()\n",
    "    \n",
    "    return artist_s,title_s"
   ]
  },
  {
   "cell_type": "code",
   "execution_count": 92,
   "id": "ffcf1c1c",
   "metadata": {},
   "outputs": [],
   "source": [
    "input_s = search_song(title_s,artist_s)"
   ]
  },
  {
   "cell_type": "code",
   "execution_count": 93,
   "id": "3c3bd122",
   "metadata": {
    "scrolled": false
   },
   "outputs": [
    {
     "data": {
      "text/plain": [
       "[{'danceability': 0.637,\n",
       "  'energy': 0.678,\n",
       "  'key': 0,\n",
       "  'loudness': -3.798,\n",
       "  'mode': 1,\n",
       "  'speechiness': 0.266,\n",
       "  'acousticness': 0.209,\n",
       "  'instrumentalness': 0,\n",
       "  'liveness': 0.156,\n",
       "  'valence': 0.254,\n",
       "  'tempo': 84.039,\n",
       "  'type': 'audio_features',\n",
       "  'id': '561jH07mF1jHuk7KlaeF0s',\n",
       "  'uri': 'spotify:track:561jH07mF1jHuk7KlaeF0s',\n",
       "  'track_href': 'https://api.spotify.com/v1/tracks/561jH07mF1jHuk7KlaeF0s',\n",
       "  'analysis_url': 'https://api.spotify.com/v1/audio-analysis/561jH07mF1jHuk7KlaeF0s',\n",
       "  'duration_ms': 250760,\n",
       "  'time_signature': 4}]"
      ]
     },
     "execution_count": 93,
     "metadata": {},
     "output_type": "execute_result"
    }
   ],
   "source": [
    "#sp.audio_features gets the audio features of the input from user in the form of a dictionary \n",
    "my_dict = sp.audio_features(input_s)\n",
    "my_dict"
   ]
  },
  {
   "cell_type": "code",
   "execution_count": 94,
   "id": "e9879fe2",
   "metadata": {},
   "outputs": [],
   "source": [
    "#Change data type to a dataframe\n",
    "input_df = pd.DataFrame(my_dict)"
   ]
  },
  {
   "cell_type": "code",
   "execution_count": 95,
   "id": "bdce4101",
   "metadata": {},
   "outputs": [
    {
     "data": {
      "text/html": [
       "<div>\n",
       "<style scoped>\n",
       "    .dataframe tbody tr th:only-of-type {\n",
       "        vertical-align: middle;\n",
       "    }\n",
       "\n",
       "    .dataframe tbody tr th {\n",
       "        vertical-align: top;\n",
       "    }\n",
       "\n",
       "    .dataframe thead th {\n",
       "        text-align: right;\n",
       "    }\n",
       "</style>\n",
       "<table border=\"1\" class=\"dataframe\">\n",
       "  <thead>\n",
       "    <tr style=\"text-align: right;\">\n",
       "      <th></th>\n",
       "      <th>danceability</th>\n",
       "      <th>energy</th>\n",
       "      <th>loudness</th>\n",
       "      <th>speechiness</th>\n",
       "      <th>acousticness</th>\n",
       "      <th>instrumentalness</th>\n",
       "      <th>liveness</th>\n",
       "      <th>valence</th>\n",
       "      <th>tempo</th>\n",
       "    </tr>\n",
       "  </thead>\n",
       "  <tbody>\n",
       "    <tr>\n",
       "      <th>0</th>\n",
       "      <td>0.637</td>\n",
       "      <td>0.678</td>\n",
       "      <td>-3.798</td>\n",
       "      <td>0.266</td>\n",
       "      <td>0.209</td>\n",
       "      <td>0</td>\n",
       "      <td>0.156</td>\n",
       "      <td>0.254</td>\n",
       "      <td>84.039</td>\n",
       "    </tr>\n",
       "  </tbody>\n",
       "</table>\n",
       "</div>"
      ],
      "text/plain": [
       "   danceability  energy  loudness  speechiness  acousticness  \\\n",
       "0         0.637   0.678    -3.798        0.266         0.209   \n",
       "\n",
       "   instrumentalness  liveness  valence   tempo  \n",
       "0                 0     0.156    0.254  84.039  "
      ]
     },
     "execution_count": 95,
     "metadata": {},
     "output_type": "execute_result"
    }
   ],
   "source": [
    "input_s = input_df.drop(['type','id','uri','track_href','analysis_url',\n",
    "                                    'time_signature','key','mode', 'duration_ms'],axis=1)\n",
    "input_s"
   ]
  },
  {
   "cell_type": "code",
   "execution_count": 96,
   "id": "e168fa55",
   "metadata": {},
   "outputs": [],
   "source": [
    "#Function to load files\n",
    "def load(filename = \"../scalers/scaler.pickle\"): \n",
    "    try: \n",
    "        with open(filename, \"rb\") as file: \n",
    "            return pickle.load(file) \n",
    "    except FileNotFoundError: \n",
    "        print(\"File \", filename, \" not found!\")\n",
    "        return None"
   ]
  },
  {
   "cell_type": "code",
   "execution_count": 97,
   "id": "bef2df46",
   "metadata": {},
   "outputs": [
    {
     "data": {
      "text/plain": [
       "StandardScaler()"
      ]
     },
     "execution_count": 97,
     "metadata": {},
     "output_type": "execute_result"
    }
   ],
   "source": [
    "#Loading the scaler\n",
    "scaler = load(\"../scalers/scaler.pickle\")\n",
    "scaler"
   ]
  },
  {
   "cell_type": "code",
   "execution_count": 98,
   "id": "10c2b945",
   "metadata": {},
   "outputs": [
    {
     "data": {
      "text/plain": [
       "KMeans(n_clusters=13, random_state=1234, verbose=1)"
      ]
     },
     "execution_count": 98,
     "metadata": {},
     "output_type": "execute_result"
    }
   ],
   "source": [
    "#Loading best model\n",
    "best_model = load(\"../models/Kmeans13.pickle\")\n",
    "best_model"
   ]
  },
  {
   "cell_type": "code",
   "execution_count": 99,
   "id": "2d62d26e",
   "metadata": {},
   "outputs": [],
   "source": [
    "#Transform the new song \n",
    "song_scaled = scaler.transform(input_s)\n",
    "song_scaled_df = pd.DataFrame(input_s, columns=input_s.columns)"
   ]
  },
  {
   "cell_type": "code",
   "execution_count": 100,
   "id": "ab65dc86",
   "metadata": {},
   "outputs": [
    {
     "data": {
      "text/plain": [
       "array([4], dtype=int32)"
      ]
     },
     "execution_count": 100,
     "metadata": {},
     "output_type": "execute_result"
    }
   ],
   "source": [
    "#Predict the cluster of the transformed song using the best model\n",
    "song_c = best_model.predict(song_scaled_df)\n",
    "song_c"
   ]
  },
  {
   "cell_type": "code",
   "execution_count": 101,
   "id": "379ede61",
   "metadata": {},
   "outputs": [
    {
     "data": {
      "text/html": [
       "<div>\n",
       "<style scoped>\n",
       "    .dataframe tbody tr th:only-of-type {\n",
       "        vertical-align: middle;\n",
       "    }\n",
       "\n",
       "    .dataframe tbody tr th {\n",
       "        vertical-align: top;\n",
       "    }\n",
       "\n",
       "    .dataframe thead th {\n",
       "        text-align: right;\n",
       "    }\n",
       "</style>\n",
       "<table border=\"1\" class=\"dataframe\">\n",
       "  <thead>\n",
       "    <tr style=\"text-align: right;\">\n",
       "      <th></th>\n",
       "      <th>title</th>\n",
       "      <th>artist</th>\n",
       "    </tr>\n",
       "  </thead>\n",
       "  <tbody>\n",
       "    <tr>\n",
       "      <th>1683</th>\n",
       "      <td>new world slaughter</td>\n",
       "      <td>iconoclast</td>\n",
       "    </tr>\n",
       "    <tr>\n",
       "      <th>1684</th>\n",
       "      <td>fvneral moon</td>\n",
       "      <td>lorna shore</td>\n",
       "    </tr>\n",
       "    <tr>\n",
       "      <th>1785</th>\n",
       "      <td>dead presidents</td>\n",
       "      <td>rick ross</td>\n",
       "    </tr>\n",
       "    <tr>\n",
       "      <th>2004</th>\n",
       "      <td>nite time - ruby &amp; tony radio edit</td>\n",
       "      <td>george acosta</td>\n",
       "    </tr>\n",
       "    <tr>\n",
       "      <th>2093</th>\n",
       "      <td>go down in history</td>\n",
       "      <td>four year strong</td>\n",
       "    </tr>\n",
       "  </tbody>\n",
       "</table>\n",
       "</div>"
      ],
      "text/plain": [
       "                                   title            artist\n",
       "1683                 new world slaughter        iconoclast\n",
       "1684                        fvneral moon       lorna shore\n",
       "1785                     dead presidents         rick ross\n",
       "2004  nite time - ruby & tony radio edit     george acosta\n",
       "2093                  go down in history  four year strong"
      ]
     },
     "execution_count": 101,
     "metadata": {},
     "output_type": "execute_result"
    }
   ],
   "source": [
    "#Use the predicted cluster to recommend 5 songs \n",
    "cluster_n = song_clusters_df[song_clusters_df['cluster'] == song_c[0]] \n",
    "recommend = (cluster_n.iloc[:,18:20]).sample(5)\n",
    "recommend"
   ]
  },
  {
   "cell_type": "markdown",
   "id": "14b65091",
   "metadata": {},
   "source": [
    "## Combine all previous steps into a while loop"
   ]
  },
  {
   "cell_type": "code",
   "execution_count": 103,
   "id": "e601ea74",
   "metadata": {
    "scrolled": true
   },
   "outputs": [
    {
     "name": "stdout",
     "output_type": "stream",
     "text": [
      "Please Enter the song title: mockingbird\n",
      "Please Enter the artist title: eminem\n",
      "! Unable to get song id\n",
      "Please Enter the song title: flowers\n",
      "Please Enter the artist title: miley cyrus\n",
      "Try these songs:\n",
      "  harry styles - as it was\n",
      "  cole swindell - she had me at heads carolina\n",
      "  corey kent - wild as her\n",
      "  carly pearce - what he didn't do\n",
      "  falling in reverse - watch the world burn\n",
      "Do you want more recommendations? (y|n) n\n",
      "Bye!\n"
     ]
    }
   ],
   "source": [
    "done = False #Set this so the loop can be ended at a given point\n",
    "\n",
    "#Load the scaler and model to be used\n",
    "scaler = load(\"../scalers/scaler.pickle\")\n",
    "model  = load(\"../models/Kmeans13.pickle\")\n",
    "songs  = song_clusters_df\n",
    "\n",
    "while not done:\n",
    "    \n",
    "    #Let the user input a song and artist using the function\n",
    "    title,artist = read_song_and_artist()\n",
    "    \n",
    "    #Get the id of the song input\n",
    "    id = search_song(title, artist)\n",
    "    if not id: \n",
    "        print(\"! Unable to get song id\")\n",
    "        continue #Restarts the while loop if there is no song id\n",
    "        \n",
    "    #Get the audio features of the song input\n",
    "    af = sp.audio_features(id)\n",
    "    if not af:\n",
    "        print(\"! Unable to get audio features\")\n",
    "        continue #Restarts the while loop if there are no song features\n",
    "    \n",
    "    #Scale the new audio features of the new song\n",
    "    af_scaled_df = pd.DataFrame(af)\n",
    "    af_scaled_df.drop(['type','id','uri','track_href','analysis_url',\n",
    "                                    'time_signature','key','mode', 'duration_ms'], axis=1, inplace=True) #Only need feature columns\n",
    "    af_scaled = scaler.transform(af_scaled_df) \n",
    "    af_scaled_df = pd.DataFrame(af_scaled, columns=af_scaled_df.columns) #Return back to a df\n",
    "    \n",
    "    #Use the model to predict the cluster of the new song\n",
    "    cluster = model.predict(af_scaled_df)[0]\n",
    "    \n",
    "    #Check if the song is in the songs file and if it is a hot_100 song then recommend 5 hot_100 songs in the same cluster. \n",
    "    if not songs[(songs[\"id\"] == id) & (songs[\"hot_100\"] == 1)].empty:\n",
    "        recommended = songs[(songs[\"hot_100\"] == 1) & (songs[\"cluster\"] == cluster)].sample(5)\n",
    "    #If not recommend 5 songs from the not_100 list and the same cluster.\n",
    "    else:\n",
    "        recommended = songs[(songs[\"hot_100\"] == 0) & (songs[\"cluster\"] == cluster)].sample(5)\n",
    "     \n",
    "    #Return the recommended artists and song titles\n",
    "    \n",
    "  \n",
    "    artist = recommended[\"artist\"].values[0:5]\n",
    "    title  = recommended[\"title\"].values[0:5]\n",
    "    print(\"Try these songs:\")\n",
    "    for i in range(5):\n",
    "        print(\"  {} - {}\".format(artist[i], title[i]))\n",
    "\n",
    "   # print(\"Recommmended: {} - {}\".format(artist, title))\n",
    "    \n",
    "    #Ask the user if they want more recommendations or not. \n",
    "    quit = input(\"Do you want more recommendations? (y|n) \")\n",
    "    if quit == \"n\":\n",
    "        done = True\n",
    "        print(\"Bye!\")"
   ]
  },
  {
   "cell_type": "code",
   "execution_count": null,
   "id": "0ae64170",
   "metadata": {},
   "outputs": [],
   "source": []
  }
 ],
 "metadata": {
  "kernelspec": {
   "display_name": "Python 3 (ipykernel)",
   "language": "python",
   "name": "python3"
  },
  "language_info": {
   "codemirror_mode": {
    "name": "ipython",
    "version": 3
   },
   "file_extension": ".py",
   "mimetype": "text/x-python",
   "name": "python",
   "nbconvert_exporter": "python",
   "pygments_lexer": "ipython3",
   "version": "3.9.13"
  }
 },
 "nbformat": 4,
 "nbformat_minor": 5
}
