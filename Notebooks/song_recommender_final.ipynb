{
 "cells": [
  {
   "cell_type": "code",
   "execution_count": 10,
   "id": "0f1c965a",
   "metadata": {},
   "outputs": [],
   "source": [
    "#Import required libraries\n",
    "import spotipy\n",
    "import pandas as pd\n",
    "import json\n",
    "from spotipy.oauth2 import SpotifyClientCredentials\n",
    "from config import *\n",
    "from sklearn.cluster import KMeans\n",
    "from sklearn.metrics import silhouette_score\n",
    "from sklearn.preprocessing import StandardScaler\n",
    "import pickle\n",
    "import random"
   ]
  },
  {
   "cell_type": "code",
   "execution_count": 11,
   "id": "70607af7",
   "metadata": {},
   "outputs": [],
   "source": [
    "sp = spotipy.Spotify(auth_manager=SpotifyClientCredentials(client_id= Client_ID,\n",
    "                                                           client_secret= Client_Secret))"
   ]
  },
  {
   "cell_type": "code",
   "execution_count": 12,
   "id": "1600e537",
   "metadata": {
    "scrolled": true
   },
   "outputs": [],
   "source": [
    "#Read csv into notebook\n",
    "song_clusters_df = pd.read_csv(\"../Data/songs_with_clusters.csv\")"
   ]
  },
  {
   "cell_type": "code",
   "execution_count": 13,
   "id": "db6c278d",
   "metadata": {},
   "outputs": [],
   "source": [
    "#Drop duplicates from previously merged dataframe\n",
    "song_clusters_df = song_clusters_df.drop_duplicates()"
   ]
  },
  {
   "cell_type": "code",
   "execution_count": 14,
   "id": "e168fa55",
   "metadata": {},
   "outputs": [],
   "source": [
    "#Function to load files\n",
    "def load(filename = \"../scalers/scaler.pickle\"): \n",
    "    try: \n",
    "        with open(filename, \"rb\") as file: \n",
    "            return pickle.load(file) \n",
    "    except FileNotFoundError: \n",
    "        print(\"File \", filename, \" not found!\")\n",
    "        return None"
   ]
  },
  {
   "cell_type": "code",
   "execution_count": 15,
   "id": "0fb5137e",
   "metadata": {},
   "outputs": [],
   "source": [
    "#Function to return song id\n",
    "def search_song(title, artist, limit=1):\n",
    "    try:\n",
    "        result = sp.search(q=title + artist, limit=limit)\n",
    "        return result[\"tracks\"][\"items\"][0][\"id\"]\n",
    "    except:\n",
    "        return None"
   ]
  },
  {
   "cell_type": "code",
   "execution_count": 16,
   "id": "70cd2c7a",
   "metadata": {},
   "outputs": [],
   "source": [
    "#Function that receives input of song title and artist from user\n",
    "def read_song_and_artist():\n",
    "    title_s = input(\"Please Enter the song title: \").lower()\n",
    "    artist_s = input(\"Please Enter the artist title: \").lower()\n",
    "    \n",
    "    return artist_s,title_s\n"
   ]
  },
  {
   "cell_type": "code",
   "execution_count": 19,
   "id": "af2dafbe",
   "metadata": {},
   "outputs": [],
   "source": [
    "#Function to get predicted clusters \n",
    "def get_predicted_cluster():\n",
    "    #Scale the new audio features of the new song\n",
    "    af_scaled_df = pd.DataFrame(af)\n",
    "    af_scaled_df.drop(['type','id','uri','track_href','analysis_url',\n",
    "                                    'time_signature','key','mode','duration_ms'], axis=1, inplace=True) #Only need feature columns\n",
    "    af_scaled = scaler.transform(af_scaled_df)\n",
    "    af_scaled_df = pd.DataFrame(af_scaled, columns=af_scaled_df.columns) #Return back to a df\n",
    "    \n",
    "    #Use the model to predict the cluster of the new song\n",
    "    cluster = model.predict(af_scaled_df)[0]\n",
    "    return cluster"
   ]
  },
  {
   "cell_type": "code",
   "execution_count": 22,
   "id": "e601ea74",
   "metadata": {
    "scrolled": true
   },
   "outputs": [
    {
     "name": "stdout",
     "output_type": "stream",
     "text": [
      "Please Enter the song title: mockingbird\n",
      "Please Enter the artist title: eminem\n",
      "Try these songs:\n",
      "  dj raff - latino & proud\n",
      "  sleigh bells - bitter rivals\n",
      "  hermitude - the buzz (feat. big k.r.i.t., mataya & young tapz) - bonus track\n",
      "  archie bell & the drells - tighten up - pt. 1\n",
      "  xia - cake love (prod. by the black skirts)\n",
      "Do you want more recommendations? (y|n) n\n",
      "Bye!\n"
     ]
    }
   ],
   "source": [
    "done = False #Set this so the loop can be ended at a given point\n",
    "\n",
    "#Load the scaler, model and dataframe to be used\n",
    "scaler = load(\"../scalers/scaler.pickle\")\n",
    "model  = load(\"../models/Kmeans13.pickle\")\n",
    "songs  = song_clusters_df\n",
    "\n",
    "while not done:\n",
    "    \n",
    "    #Let the user input a song and artist using the function\n",
    "    title,artist = read_song_and_artist()\n",
    "    \n",
    "    #Get the id of the song input\n",
    "    id = search_song(title, artist)\n",
    "    if not id:\n",
    "        print(\"! Unable to get song id\")\n",
    "        continue #Restarts the while loop if there is no song id\n",
    "    \n",
    "    #Get the audio features of the song input\n",
    "    af = sp.audio_features(id)\n",
    "    if not af:\n",
    "        print(\"! Unable to get audio features\")\n",
    "        continue #Restarts the while loop if there are no song features\n",
    "    \n",
    "    #Use the model to predict the cluster of the new song\n",
    "    cluster = get_predicted_cluster()\n",
    "    \n",
    "    #Check if the song is in the songs file and if it is a hot_100 song then recommend 5 hot_100 songs in the same cluster. \n",
    "    if not songs[(songs[\"id\"] == id) & (songs[\"hot_100\"] == 1)].empty:\n",
    "        recommended = songs[(songs[\"hot_100\"] == 1) & (songs[\"cluster\"] == cluster)].sample(5)\n",
    "    #If not recommend 5 songs from the not_100 list and the same cluster.\n",
    "    else:\n",
    "        recommended = songs[(songs[\"hot_100\"] == 0) & (songs[\"cluster\"] == cluster)].sample(5)\n",
    "        \n",
    "    #Return the recommended artists and song titles\n",
    "    artist = recommended[\"artist\"].values[0:5]\n",
    "    title  = recommended[\"title\"].values[0:5]\n",
    "    \n",
    "    print(\"Try these songs:\")\n",
    "    for i in range(5):\n",
    "        print(\"  {} - {}\".format(artist[i], title[i]))\n",
    "    \n",
    "    #Option to exit loop if user doesn't want anymore recommendations. \n",
    "    quit = input(\"Do you want more recommendations? (y|n) \") \n",
    "    if quit == \"n\":\n",
    "        done = True\n",
    "        print(\"Bye!\")"
   ]
  },
  {
   "cell_type": "code",
   "execution_count": null,
   "id": "5a2401a1",
   "metadata": {},
   "outputs": [],
   "source": []
  }
 ],
 "metadata": {
  "kernelspec": {
   "display_name": "Python 3 (ipykernel)",
   "language": "python",
   "name": "python3"
  },
  "language_info": {
   "codemirror_mode": {
    "name": "ipython",
    "version": 3
   },
   "file_extension": ".py",
   "mimetype": "text/x-python",
   "name": "python",
   "nbconvert_exporter": "python",
   "pygments_lexer": "ipython3",
   "version": "3.9.13"
  }
 },
 "nbformat": 4,
 "nbformat_minor": 5
}
